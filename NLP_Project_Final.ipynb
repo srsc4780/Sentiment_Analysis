{
 "cells": [
  {
   "cell_type": "markdown",
   "metadata": {
    "id": "osIG543cCp2Y"
   },
   "source": [
    "Importing libraries "
   ]
  },
  {
   "cell_type": "code",
   "execution_count": 4,
   "metadata": {
    "colab": {
     "base_uri": "https://localhost:8080/"
    },
    "id": "8Koz3mYWLl-f",
    "outputId": "e8b006f5-f85c-46a2-e749-3f574ec32d14"
   },
   "outputs": [
    {
     "name": "stderr",
     "output_type": "stream",
     "text": [
      "[nltk_data] Downloading package stopwords to\n",
      "[nltk_data]     C:\\Users\\srsc4\\AppData\\Roaming\\nltk_data...\n",
      "[nltk_data]   Unzipping corpora\\stopwords.zip.\n",
      "[nltk_data] Downloading package punkt to\n",
      "[nltk_data]     C:\\Users\\srsc4\\AppData\\Roaming\\nltk_data...\n",
      "[nltk_data]   Unzipping tokenizers\\punkt.zip.\n"
     ]
    }
   ],
   "source": [
    "import pandas as pd    # to load dataset\n",
    "import numpy as np     # for mathematic equation\n",
    "from nltk.corpus import stopwords   # to get collection of stopwords\n",
    "from sklearn.model_selection import train_test_split       # for splitting dataset\n",
    "from tensorflow.keras.preprocessing.text import Tokenizer  # to encode text to int\n",
    "from tensorflow.keras.preprocessing.sequence import pad_sequences   # to do padding or truncating\n",
    "from tensorflow.keras.models import Sequential     # the model\n",
    "from tensorflow.keras.layers import Embedding, LSTM, Dense # layers of the architecture\n",
    "from tensorflow.keras.callbacks import ModelCheckpoint   # save model\n",
    "from tensorflow.keras.models import load_model   # load saved model\n",
    "import re\n",
    "import nltk\n",
    "nltk.download('stopwords')\n",
    "nltk.download('punkt')\n",
    "from nltk.corpus import stopwords\n",
    "from nltk.tokenize import word_tokenize\n",
    "\n",
    "import keras\n",
    "import keras_metrics\n",
    "from tensorflow.keras.utils import to_categorical\n",
    "from tensorflow.keras.layers import Input, Dense, Embedding, Flatten, SpatialDropout1D\n",
    "from tensorflow.keras.layers import Conv1D, MaxPooling1D\n",
    "from tensorflow.keras.models import Sequential\n",
    "from tensorflow.keras.preprocessing import sequence,text\n",
    "from tensorflow.keras.preprocessing.text import Tokenizer\n",
    "from tensorflow.keras.preprocessing.sequence import pad_sequences\n",
    "from tensorflow.keras.losses import categorical_crossentropy\n",
    "from tensorflow.keras.optimizers import Adamax\n",
    "from sklearn.metrics import accuracy_score,confusion_matrix,classification_report,f1_score\n",
    "\n",
    "import matplotlib.pyplot as plt\n",
    "from tensorflow.keras.utils import plot_model"
   ]
  },
  {
   "cell_type": "markdown",
   "metadata": {
    "id": "wh3uFhSoCuqn"
   },
   "source": [
    "Linking Gdrive for accessing files/dataset"
   ]
  },
  {
   "cell_type": "markdown",
   "metadata": {
    "id": "DklHsqxoDAkE"
   },
   "source": [
    "Reading dataset into dataframe"
   ]
  },
  {
   "cell_type": "code",
   "execution_count": 5,
   "metadata": {
    "colab": {
     "base_uri": "https://localhost:8080/",
     "height": 204
    },
    "id": "qY8kR0GCMkiM",
    "outputId": "99c72324-5e6e-4763-eb9b-f4cca1c08eb6"
   },
   "outputs": [
    {
     "data": {
      "text/html": [
       "<div>\n",
       "<style scoped>\n",
       "    .dataframe tbody tr th:only-of-type {\n",
       "        vertical-align: middle;\n",
       "    }\n",
       "\n",
       "    .dataframe tbody tr th {\n",
       "        vertical-align: top;\n",
       "    }\n",
       "\n",
       "    .dataframe thead th {\n",
       "        text-align: right;\n",
       "    }\n",
       "</style>\n",
       "<table border=\"1\" class=\"dataframe\">\n",
       "  <thead>\n",
       "    <tr style=\"text-align: right;\">\n",
       "      <th></th>\n",
       "      <th>review</th>\n",
       "      <th>sentiment</th>\n",
       "    </tr>\n",
       "  </thead>\n",
       "  <tbody>\n",
       "    <tr>\n",
       "      <th>0</th>\n",
       "      <td>One of the other reviewers has mentioned that ...</td>\n",
       "      <td>positive</td>\n",
       "    </tr>\n",
       "    <tr>\n",
       "      <th>1</th>\n",
       "      <td>A wonderful little production. &lt;br /&gt;&lt;br /&gt;The...</td>\n",
       "      <td>positive</td>\n",
       "    </tr>\n",
       "    <tr>\n",
       "      <th>2</th>\n",
       "      <td>I thought this was a wonderful way to spend ti...</td>\n",
       "      <td>positive</td>\n",
       "    </tr>\n",
       "    <tr>\n",
       "      <th>3</th>\n",
       "      <td>Basically there's a family where a little boy ...</td>\n",
       "      <td>negative</td>\n",
       "    </tr>\n",
       "    <tr>\n",
       "      <th>4</th>\n",
       "      <td>Petter Mattei's \"Love in the Time of Money\" is...</td>\n",
       "      <td>positive</td>\n",
       "    </tr>\n",
       "  </tbody>\n",
       "</table>\n",
       "</div>"
      ],
      "text/plain": [
       "                                              review sentiment\n",
       "0  One of the other reviewers has mentioned that ...  positive\n",
       "1  A wonderful little production. <br /><br />The...  positive\n",
       "2  I thought this was a wonderful way to spend ti...  positive\n",
       "3  Basically there's a family where a little boy ...  negative\n",
       "4  Petter Mattei's \"Love in the Time of Money\" is...  positive"
      ]
     },
     "execution_count": 5,
     "metadata": {},
     "output_type": "execute_result"
    }
   ],
   "source": [
    "data = pd.read_csv('IMDB Dataset.csv')\n",
    "data.head() # printing the first 5 instances"
   ]
  },
  {
   "cell_type": "markdown",
   "metadata": {
    "id": "ItQXp0ZQDK9G"
   },
   "source": [
    "X is the review and y is the label"
   ]
  },
  {
   "cell_type": "code",
   "execution_count": 6,
   "metadata": {
    "id": "Hp_g_099SJUV"
   },
   "outputs": [],
   "source": [
    "X = data['review'] \n",
    "y = data['sentiment']"
   ]
  },
  {
   "cell_type": "markdown",
   "metadata": {
    "id": "tzVslH3-SxWZ"
   },
   "source": [
    "Removing html and symbols from reviews"
   ]
  },
  {
   "cell_type": "code",
   "execution_count": 7,
   "metadata": {
    "id": "pt9msWOuSe8d"
   },
   "outputs": [],
   "source": [
    "X = X.replace({'<.*?>': ''}, regex = True) # removing html symbols\n",
    "X = X.replace({'[^A-Za-z]': ' '}, regex = True) # removing non-alphabet"
   ]
  },
  {
   "cell_type": "code",
   "execution_count": 9,
   "metadata": {
    "id": "1ImtJ-sxGSZf"
   },
   "outputs": [
    {
     "data": {
      "text/plain": [
       "'A wonderful little production  The filming technique is very unassuming  very old time BBC fashion and gives a comforting  and sometimes discomforting  sense of realism to the entire piece  The actors are extremely well chosen  Michael Sheen not only  has got all the polari  but he has all the voices down pat too  You can truly see the seamless editing guided by the references to Williams  diary entries  not only is it well worth the watching but it is a terrificly written and performed piece  A masterful production about one of the great master s of comedy and his life  The realism really comes home with the little things  the fantasy of the guard which  rather than use the traditional  dream  techniques remains solid then disappears  It plays on our knowledge and our senses  particularly with the scenes concerning Orton and Halliwell and the sets  particularly of their flat with Halliwell s murals decorating every surface  are terribly well done '"
      ]
     },
     "execution_count": 9,
     "metadata": {},
     "output_type": "execute_result"
    }
   ],
   "source": [
    "X[1]"
   ]
  },
  {
   "cell_type": "markdown",
   "metadata": {
    "id": "zP7716dVThsH"
   },
   "source": [
    "Removing stop words"
   ]
  },
  {
   "cell_type": "code",
   "execution_count": 10,
   "metadata": {
    "id": "EO6YcHDOThAn"
   },
   "outputs": [],
   "source": [
    "stop_words = set(stopwords.words('english'))\n",
    "for i in range(len(X)):\n",
    "  #X[i]=word_tokenize(X[i])\n",
    "  X[i] = [w for w in X[i] if not w.lower() in stop_words]"
   ]
  },
  {
   "cell_type": "markdown",
   "metadata": {
    "id": "e4o9OwejVWR0"
   },
   "source": [
    "Encoding sentiment, positive for 1 and negative for 0"
   ]
  },
  {
   "cell_type": "code",
   "execution_count": 11,
   "metadata": {
    "id": "TPqRk8yPlCiP"
   },
   "outputs": [],
   "source": [
    "y = y.replace('positive', 1)\n",
    "y = y.replace('negative', 0)"
   ]
  },
  {
   "cell_type": "markdown",
   "metadata": {
    "id": "zx9D07VKDdZi"
   },
   "source": [
    "Converting y into categorical values for keras input"
   ]
  },
  {
   "cell_type": "code",
   "execution_count": 12,
   "metadata": {
    "id": "enRVcAWsVQGA"
   },
   "outputs": [],
   "source": [
    "y = to_categorical(y.values)"
   ]
  },
  {
   "cell_type": "code",
   "execution_count": 13,
   "metadata": {
    "id": "V_lX4YfyGsNQ"
   },
   "outputs": [
    {
     "data": {
      "text/plain": [
       "array([[0., 1.],\n",
       "       [0., 1.],\n",
       "       [0., 1.],\n",
       "       ...,\n",
       "       [1., 0.],\n",
       "       [1., 0.],\n",
       "       [1., 0.]], dtype=float32)"
      ]
     },
     "execution_count": 13,
     "metadata": {},
     "output_type": "execute_result"
    }
   ],
   "source": [
    "y"
   ]
  },
  {
   "cell_type": "markdown",
   "metadata": {
    "id": "cX_rUKruV2Y-"
   },
   "source": [
    "Split into 80:20 ratio "
   ]
  },
  {
   "cell_type": "code",
   "execution_count": 14,
   "metadata": {
    "id": "jYF7mFsDVsOJ"
   },
   "outputs": [],
   "source": [
    "x_train, x_test, y_train, y_test = train_test_split(X, y, test_size = 0.2)"
   ]
  },
  {
   "cell_type": "markdown",
   "metadata": {
    "id": "vGnE9bl1DkFw"
   },
   "source": [
    "Calculating the unique no. of words"
   ]
  },
  {
   "cell_type": "code",
   "execution_count": 15,
   "metadata": {
    "colab": {
     "base_uri": "https://localhost:8080/"
    },
    "id": "sZhmDrMqaRW0",
    "outputId": "32a2e0fd-f63a-4fcf-e498-8bc08789a0c7"
   },
   "outputs": [
    {
     "name": "stdout",
     "output_type": "stream",
     "text": [
      "39752\n"
     ]
    }
   ],
   "source": [
    "unique_word = len(np.unique(x_train))\n",
    "print(unique_word)"
   ]
  },
  {
   "cell_type": "markdown",
   "metadata": {
    "id": "AXPIuxjlWmRh"
   },
   "source": [
    "Calculating maximum length of the given reviews"
   ]
  },
  {
   "cell_type": "code",
   "execution_count": 16,
   "metadata": {
    "colab": {
     "base_uri": "https://localhost:8080/"
    },
    "id": "ep8DpwXQV_gp",
    "outputId": "80dd304c-89f9-4fd2-f329-99e8f9322597"
   },
   "outputs": [
    {
     "name": "stdout",
     "output_type": "stream",
     "text": [
      "798\n"
     ]
    }
   ],
   "source": [
    "length = []\n",
    "for i in x_train:\n",
    "  length.append(len(i))\n",
    "max_length = int(np.ceil(np.mean(length)))\n",
    "print(max_length)"
   ]
  },
  {
   "cell_type": "markdown",
   "metadata": {
    "id": "AkE7xjuiXI3L"
   },
   "source": [
    "Tokenizing and padding for model input"
   ]
  },
  {
   "cell_type": "code",
   "execution_count": 17,
   "metadata": {
    "id": "lVE8CeFVWx0x"
   },
   "outputs": [],
   "source": [
    "token = Tokenizer(lower=False)   \n",
    "token.fit_on_texts(x_train)\n",
    "x_train = token.texts_to_sequences(x_train)\n",
    "x_test = token.texts_to_sequences(x_test)\n",
    "\n",
    "\n",
    "x_train = pad_sequences(x_train, maxlen=max_length, padding='post', truncating='post')\n",
    "x_test = pad_sequences(x_test, maxlen=max_length, padding='post', truncating='post')\n",
    "\n",
    "total_words = len(token.word_index) + 1   # add 1 because of 0 padding"
   ]
  },
  {
   "cell_type": "code",
   "execution_count": 18,
   "metadata": {
    "colab": {
     "base_uri": "https://localhost:8080/"
    },
    "id": "5pQABdxxXZNK",
    "outputId": "44f92ce1-1672-489b-ab2f-185cedf0736d"
   },
   "outputs": [
    {
     "name": "stdout",
     "output_type": "stream",
     "text": [
      "[[ 1  5 14 ...  4  3  1]\n",
      " [ 3  1  5 ...  0  0  0]\n",
      " [ 9  1  5 ...  4  1  3]\n",
      " ...\n",
      " [ 1 26  4 ... 12  6  1]\n",
      " [ 3  1 22 ...  0  0  0]\n",
      " [18  8 13 ...  1  1  2]]\n",
      "[[0. 1.]\n",
      " [0. 1.]\n",
      " [0. 1.]\n",
      " ...\n",
      " [1. 0.]\n",
      " [1. 0.]\n",
      " [1. 0.]]\n"
     ]
    }
   ],
   "source": [
    "print(x_train)\n",
    "print(y_train)"
   ]
  },
  {
   "cell_type": "markdown",
   "metadata": {
    "id": "26ltkMZzXgxU"
   },
   "source": [
    "CNN model"
   ]
  },
  {
   "cell_type": "code",
   "execution_count": 19,
   "metadata": {
    "colab": {
     "base_uri": "https://localhost:8080/"
    },
    "id": "YXRiwUGaXcPy",
    "outputId": "9f7e3df2-13ba-4931-9520-0e71649e160f"
   },
   "outputs": [
    {
     "name": "stdout",
     "output_type": "stream",
     "text": [
      "Model: \"sequential\"\n",
      "_________________________________________________________________\n",
      "Layer (type)                 Output Shape              Param #   \n",
      "=================================================================\n",
      "embedding (Embedding)        (None, 798, 150)          5962800   \n",
      "_________________________________________________________________\n",
      "conv1d (Conv1D)              (None, 798, 32)           14432     \n",
      "_________________________________________________________________\n",
      "max_pooling1d (MaxPooling1D) (None, 399, 32)           0         \n",
      "_________________________________________________________________\n",
      "conv1d_1 (Conv1D)            (None, 399, 64)           6208      \n",
      "_________________________________________________________________\n",
      "max_pooling1d_1 (MaxPooling1 (None, 199, 64)           0         \n",
      "_________________________________________________________________\n",
      "conv1d_2 (Conv1D)            (None, 199, 64)           12352     \n",
      "_________________________________________________________________\n",
      "max_pooling1d_2 (MaxPooling1 (None, 99, 64)            0         \n",
      "_________________________________________________________________\n",
      "conv1d_3 (Conv1D)            (None, 99, 64)            12352     \n",
      "_________________________________________________________________\n",
      "max_pooling1d_3 (MaxPooling1 (None, 49, 64)            0         \n",
      "_________________________________________________________________\n",
      "flatten (Flatten)            (None, 3136)              0         \n",
      "_________________________________________________________________\n",
      "dense (Dense)                (None, 2)                 6274      \n",
      "=================================================================\n",
      "Total params: 6,014,418\n",
      "Trainable params: 6,014,418\n",
      "Non-trainable params: 0\n",
      "_________________________________________________________________\n"
     ]
    }
   ],
   "source": [
    "num_class=2 # no. of possible outcomes\n",
    "model = Sequential()\n",
    "model.add(Embedding(unique_word, 150, input_length = max_length))\n",
    "model.add(Conv1D(32,kernel_size=3, padding='same', activation='relu'))\n",
    "model.add(MaxPooling1D(pool_size=2))\n",
    "model.add(Conv1D(64, kernel_size=3, padding='same', activation='relu'))\n",
    "model.add(MaxPooling1D(pool_size=2))\n",
    "model.add(Conv1D(64, kernel_size=3, padding='same', activation='relu'))\n",
    "model.add(MaxPooling1D(pool_size=2))\n",
    "model.add(Conv1D(64, kernel_size=3, padding='same', activation='relu'))\n",
    "model.add(MaxPooling1D(pool_size=2))\n",
    "model.add(Flatten())\n",
    "model.add(Dense(num_class, activation='sigmoid'))\n",
    "model.summary()"
   ]
  },
  {
   "cell_type": "code",
   "execution_count": 20,
   "metadata": {
    "colab": {
     "base_uri": "https://localhost:8080/"
    },
    "id": "_L3yMQJ7FD8V",
    "outputId": "4199a276-ffba-44b7-9c51-bf62820041f5"
   },
   "outputs": [
    {
     "name": "stdout",
     "output_type": "stream",
     "text": [
      "(40000, 798) (40000, 2)\n"
     ]
    }
   ],
   "source": [
    "print(x_train.shape, y_train.shape)"
   ]
  },
  {
   "cell_type": "code",
   "execution_count": 21,
   "metadata": {
    "colab": {
     "base_uri": "https://localhost:8080/"
    },
    "id": "e9dsz-2SZF60",
    "outputId": "03247f4e-0c09-4fac-da9d-743c7ce35642"
   },
   "outputs": [
    {
     "name": "stdout",
     "output_type": "stream",
     "text": [
      "Epoch 1/100\n",
      "313/313 [==============================] - 49s 156ms/step - loss: 0.6918 - accuracy: 0.5177 - val_loss: 0.6843 - val_accuracy: 0.7561\n",
      "Epoch 2/100\n",
      "313/313 [==============================] - 47s 151ms/step - loss: 0.6618 - accuracy: 0.6037 - val_loss: 0.6561 - val_accuracy: 0.6080\n",
      "Epoch 3/100\n",
      "313/313 [==============================] - 48s 153ms/step - loss: 0.6255 - accuracy: 0.6553 - val_loss: 0.6100 - val_accuracy: 0.6712\n",
      "Epoch 4/100\n",
      "313/313 [==============================] - 48s 155ms/step - loss: 0.5893 - accuracy: 0.6888 - val_loss: 0.5771 - val_accuracy: 0.7075\n",
      "Epoch 5/100\n",
      "313/313 [==============================] - 49s 157ms/step - loss: 0.5646 - accuracy: 0.7110 - val_loss: 0.5643 - val_accuracy: 0.7173\n",
      "Epoch 6/100\n",
      "313/313 [==============================] - 48s 154ms/step - loss: 0.5469 - accuracy: 0.7253 - val_loss: 0.5465 - val_accuracy: 0.7269\n",
      "Epoch 7/100\n",
      "313/313 [==============================] - 48s 154ms/step - loss: 0.5361 - accuracy: 0.7325 - val_loss: 0.5334 - val_accuracy: 0.7351\n",
      "Epoch 8/100\n",
      "313/313 [==============================] - 48s 153ms/step - loss: 0.5238 - accuracy: 0.7424 - val_loss: 0.5221 - val_accuracy: 0.7452\n",
      "Epoch 9/100\n",
      "313/313 [==============================] - 47s 151ms/step - loss: 0.5160 - accuracy: 0.7472 - val_loss: 0.5190 - val_accuracy: 0.7421\n",
      "Epoch 10/100\n",
      "313/313 [==============================] - 47s 150ms/step - loss: 0.5031 - accuracy: 0.7576 - val_loss: 0.5097 - val_accuracy: 0.7513\n",
      "Epoch 11/100\n",
      "313/313 [==============================] - 48s 153ms/step - loss: 0.4935 - accuracy: 0.7625 - val_loss: 0.4987 - val_accuracy: 0.7588\n",
      "Epoch 12/100\n",
      "313/313 [==============================] - 47s 151ms/step - loss: 0.4917 - accuracy: 0.7646 - val_loss: 0.5072 - val_accuracy: 0.7519\n",
      "Epoch 13/100\n",
      "313/313 [==============================] - 49s 156ms/step - loss: 0.4824 - accuracy: 0.7698 - val_loss: 0.4886 - val_accuracy: 0.7637\n",
      "Epoch 14/100\n",
      "313/313 [==============================] - 48s 154ms/step - loss: 0.4745 - accuracy: 0.7761 - val_loss: 0.4843 - val_accuracy: 0.7672\n",
      "Epoch 15/100\n",
      "313/313 [==============================] - 47s 151ms/step - loss: 0.4651 - accuracy: 0.7817 - val_loss: 0.4944 - val_accuracy: 0.7622\n",
      "Epoch 16/100\n",
      "313/313 [==============================] - 47s 152ms/step - loss: 0.4576 - accuracy: 0.7868 - val_loss: 0.4758 - val_accuracy: 0.7739\n",
      "Epoch 17/100\n",
      "313/313 [==============================] - 47s 151ms/step - loss: 0.4560 - accuracy: 0.7867 - val_loss: 0.4939 - val_accuracy: 0.7630\n",
      "Epoch 18/100\n",
      "313/313 [==============================] - 48s 154ms/step - loss: 0.4574 - accuracy: 0.7881 - val_loss: 0.4845 - val_accuracy: 0.7688\n",
      "Epoch 19/100\n",
      "313/313 [==============================] - 48s 153ms/step - loss: 0.4504 - accuracy: 0.7904 - val_loss: 0.5393 - val_accuracy: 0.7355\n",
      "Epoch 20/100\n",
      "313/313 [==============================] - 48s 152ms/step - loss: 0.4410 - accuracy: 0.7964 - val_loss: 0.4957 - val_accuracy: 0.7678\n",
      "Epoch 21/100\n",
      "313/313 [==============================] - 49s 156ms/step - loss: 0.4397 - accuracy: 0.7969 - val_loss: 0.4571 - val_accuracy: 0.7857\n",
      "Epoch 22/100\n",
      "313/313 [==============================] - 48s 154ms/step - loss: 0.4270 - accuracy: 0.8032 - val_loss: 0.4966 - val_accuracy: 0.7620\n",
      "Epoch 23/100\n",
      "313/313 [==============================] - 49s 157ms/step - loss: 0.4233 - accuracy: 0.8056 - val_loss: 0.4653 - val_accuracy: 0.7828\n",
      "Epoch 24/100\n",
      "313/313 [==============================] - 47s 151ms/step - loss: 0.4253 - accuracy: 0.8037 - val_loss: 0.4749 - val_accuracy: 0.7762\n",
      "Epoch 25/100\n",
      "313/313 [==============================] - 48s 152ms/step - loss: 0.4203 - accuracy: 0.8078 - val_loss: 0.4671 - val_accuracy: 0.7798\n",
      "Epoch 26/100\n",
      "313/313 [==============================] - 49s 156ms/step - loss: 0.4143 - accuracy: 0.8112 - val_loss: 0.4676 - val_accuracy: 0.7813\n",
      "Epoch 27/100\n",
      "313/313 [==============================] - 48s 154ms/step - loss: 0.4084 - accuracy: 0.8152 - val_loss: 0.4456 - val_accuracy: 0.7950\n",
      "Epoch 28/100\n",
      "313/313 [==============================] - 47s 151ms/step - loss: 0.4112 - accuracy: 0.8134 - val_loss: 0.4486 - val_accuracy: 0.7915\n",
      "Epoch 29/100\n",
      "313/313 [==============================] - 47s 151ms/step - loss: 0.4139 - accuracy: 0.8113 - val_loss: 0.4654 - val_accuracy: 0.7831\n",
      "Epoch 30/100\n",
      "313/313 [==============================] - 48s 152ms/step - loss: 0.4021 - accuracy: 0.8185 - val_loss: 0.4417 - val_accuracy: 0.7978\n",
      "Epoch 31/100\n",
      "313/313 [==============================] - 47s 151ms/step - loss: 0.3968 - accuracy: 0.8219 - val_loss: 0.4419 - val_accuracy: 0.7939\n",
      "Epoch 32/100\n",
      "313/313 [==============================] - 47s 150ms/step - loss: 0.3917 - accuracy: 0.8249 - val_loss: 0.4485 - val_accuracy: 0.7939\n",
      "Epoch 33/100\n",
      "313/313 [==============================] - 47s 150ms/step - loss: 0.3876 - accuracy: 0.8253 - val_loss: 0.4915 - val_accuracy: 0.7730\n",
      "Epoch 34/100\n",
      "313/313 [==============================] - 47s 151ms/step - loss: 0.3816 - accuracy: 0.8289 - val_loss: 0.4530 - val_accuracy: 0.7942\n",
      "Epoch 35/100\n",
      "313/313 [==============================] - 47s 151ms/step - loss: 0.3853 - accuracy: 0.8282 - val_loss: 0.4656 - val_accuracy: 0.7890\n",
      "Epoch 36/100\n",
      "313/313 [==============================] - 47s 150ms/step - loss: 0.3828 - accuracy: 0.8292 - val_loss: 0.4782 - val_accuracy: 0.7817\n",
      "Epoch 37/100\n",
      "313/313 [==============================] - 47s 151ms/step - loss: 0.3820 - accuracy: 0.8292 - val_loss: 0.4480 - val_accuracy: 0.7952\n",
      "Epoch 38/100\n",
      "313/313 [==============================] - 47s 151ms/step - loss: 0.3810 - accuracy: 0.8293 - val_loss: 0.4392 - val_accuracy: 0.8011\n",
      "Epoch 39/100\n",
      "313/313 [==============================] - 47s 151ms/step - loss: 0.3679 - accuracy: 0.8374 - val_loss: 0.4387 - val_accuracy: 0.7998\n",
      "Epoch 40/100\n",
      "313/313 [==============================] - 47s 151ms/step - loss: 0.3679 - accuracy: 0.8389 - val_loss: 0.4343 - val_accuracy: 0.8062\n",
      "Epoch 41/100\n",
      "313/313 [==============================] - 47s 150ms/step - loss: 0.3609 - accuracy: 0.8404 - val_loss: 0.4313 - val_accuracy: 0.8059\n",
      "Epoch 42/100\n",
      "313/313 [==============================] - 47s 149ms/step - loss: 0.3634 - accuracy: 0.8395 - val_loss: 0.4297 - val_accuracy: 0.8061\n",
      "Epoch 43/100\n",
      "313/313 [==============================] - 47s 151ms/step - loss: 0.3550 - accuracy: 0.8443 - val_loss: 0.4753 - val_accuracy: 0.7902\n",
      "Epoch 44/100\n",
      "313/313 [==============================] - 47s 150ms/step - loss: 0.3493 - accuracy: 0.8461 - val_loss: 0.4342 - val_accuracy: 0.8063\n",
      "Epoch 45/100\n",
      "313/313 [==============================] - 47s 150ms/step - loss: 0.3502 - accuracy: 0.8457 - val_loss: 0.4340 - val_accuracy: 0.8052\n",
      "Epoch 46/100\n",
      "313/313 [==============================] - 47s 150ms/step - loss: 0.3451 - accuracy: 0.8487 - val_loss: 0.4747 - val_accuracy: 0.7866\n",
      "Epoch 47/100\n",
      "313/313 [==============================] - 47s 151ms/step - loss: 0.3474 - accuracy: 0.8482 - val_loss: 0.4394 - val_accuracy: 0.8023\n",
      "Epoch 48/100\n",
      "313/313 [==============================] - 47s 150ms/step - loss: 0.3475 - accuracy: 0.8457 - val_loss: 0.4229 - val_accuracy: 0.8070\n",
      "Epoch 49/100\n",
      "313/313 [==============================] - 47s 151ms/step - loss: 0.3353 - accuracy: 0.8538 - val_loss: 0.4293 - val_accuracy: 0.8073\n",
      "Epoch 50/100\n",
      "313/313 [==============================] - 47s 151ms/step - loss: 0.3315 - accuracy: 0.8558 - val_loss: 0.4343 - val_accuracy: 0.8059\n",
      "Epoch 51/100\n",
      "313/313 [==============================] - 47s 152ms/step - loss: 0.3292 - accuracy: 0.8586 - val_loss: 0.5683 - val_accuracy: 0.7548\n",
      "Epoch 52/100\n",
      "313/313 [==============================] - 47s 150ms/step - loss: 0.3275 - accuracy: 0.8597 - val_loss: 0.4831 - val_accuracy: 0.7953\n",
      "Epoch 53/100\n",
      "313/313 [==============================] - 47s 151ms/step - loss: 0.3216 - accuracy: 0.8614 - val_loss: 0.4559 - val_accuracy: 0.7966\n",
      "Epoch 54/100\n",
      "313/313 [==============================] - 47s 151ms/step - loss: 0.3211 - accuracy: 0.8616 - val_loss: 0.4386 - val_accuracy: 0.8032\n",
      "Epoch 55/100\n",
      "313/313 [==============================] - 47s 151ms/step - loss: 0.3255 - accuracy: 0.8601 - val_loss: 0.4357 - val_accuracy: 0.8065\n",
      "Epoch 56/100\n",
      "313/313 [==============================] - 48s 152ms/step - loss: 0.3171 - accuracy: 0.8616 - val_loss: 0.4398 - val_accuracy: 0.8106\n"
     ]
    },
    {
     "name": "stdout",
     "output_type": "stream",
     "text": [
      "Epoch 57/100\n",
      "313/313 [==============================] - 47s 151ms/step - loss: 0.3220 - accuracy: 0.8602 - val_loss: 0.4575 - val_accuracy: 0.8019\n",
      "Epoch 58/100\n",
      "313/313 [==============================] - 47s 151ms/step - loss: 0.3177 - accuracy: 0.8630 - val_loss: 0.5072 - val_accuracy: 0.7741\n",
      "Epoch 59/100\n",
      "313/313 [==============================] - 48s 152ms/step - loss: 0.3069 - accuracy: 0.8684 - val_loss: 0.4420 - val_accuracy: 0.8075\n",
      "Epoch 60/100\n",
      "313/313 [==============================] - 47s 151ms/step - loss: 0.3009 - accuracy: 0.8715 - val_loss: 0.5018 - val_accuracy: 0.7858\n",
      "Epoch 61/100\n",
      "313/313 [==============================] - 47s 150ms/step - loss: 0.3134 - accuracy: 0.8647 - val_loss: 0.4241 - val_accuracy: 0.8091\n",
      "Epoch 62/100\n",
      "313/313 [==============================] - 47s 151ms/step - loss: 0.3028 - accuracy: 0.8730 - val_loss: 0.4701 - val_accuracy: 0.8006\n",
      "Epoch 63/100\n",
      "313/313 [==============================] - 47s 151ms/step - loss: 0.2977 - accuracy: 0.8749 - val_loss: 0.4649 - val_accuracy: 0.8007\n",
      "Epoch 64/100\n",
      "313/313 [==============================] - 47s 151ms/step - loss: 0.2961 - accuracy: 0.8748 - val_loss: 0.4544 - val_accuracy: 0.8011\n",
      "Epoch 65/100\n",
      "313/313 [==============================] - 47s 151ms/step - loss: 0.2975 - accuracy: 0.8733 - val_loss: 0.4365 - val_accuracy: 0.8036\n",
      "Epoch 66/100\n",
      "313/313 [==============================] - 47s 151ms/step - loss: 0.2862 - accuracy: 0.8807 - val_loss: 0.4725 - val_accuracy: 0.7946\n",
      "Epoch 67/100\n",
      "313/313 [==============================] - 47s 150ms/step - loss: 0.2926 - accuracy: 0.8757 - val_loss: 0.4935 - val_accuracy: 0.7820\n",
      "Epoch 68/100\n",
      "313/313 [==============================] - 47s 151ms/step - loss: 0.2919 - accuracy: 0.8760 - val_loss: 0.4455 - val_accuracy: 0.8040\n",
      "Epoch 69/100\n",
      "313/313 [==============================] - 47s 150ms/step - loss: 0.2745 - accuracy: 0.8855 - val_loss: 0.4612 - val_accuracy: 0.8057\n",
      "Epoch 70/100\n",
      "313/313 [==============================] - 48s 153ms/step - loss: 0.2796 - accuracy: 0.8829 - val_loss: 0.4392 - val_accuracy: 0.8076\n",
      "Epoch 71/100\n",
      "313/313 [==============================] - 49s 156ms/step - loss: 0.2745 - accuracy: 0.8856 - val_loss: 0.4524 - val_accuracy: 0.8081\n",
      "Epoch 72/100\n",
      "313/313 [==============================] - 48s 155ms/step - loss: 0.2658 - accuracy: 0.8893 - val_loss: 0.4578 - val_accuracy: 0.8078\n",
      "Epoch 73/100\n",
      "313/313 [==============================] - 47s 151ms/step - loss: 0.2713 - accuracy: 0.8850 - val_loss: 0.4965 - val_accuracy: 0.7981\n",
      "Epoch 74/100\n",
      "313/313 [==============================] - 48s 153ms/step - loss: 0.2691 - accuracy: 0.8867 - val_loss: 0.5162 - val_accuracy: 0.7855\n",
      "Epoch 75/100\n",
      "313/313 [==============================] - 48s 152ms/step - loss: 0.2605 - accuracy: 0.8904 - val_loss: 0.4552 - val_accuracy: 0.8048\n",
      "Epoch 76/100\n",
      "313/313 [==============================] - 47s 151ms/step - loss: 0.2546 - accuracy: 0.8941 - val_loss: 0.4807 - val_accuracy: 0.8045\n",
      "Epoch 77/100\n",
      "313/313 [==============================] - 48s 153ms/step - loss: 0.2529 - accuracy: 0.8931 - val_loss: 0.4727 - val_accuracy: 0.8077\n",
      "Epoch 78/100\n",
      "313/313 [==============================] - 48s 153ms/step - loss: 0.2522 - accuracy: 0.8951 - val_loss: 0.4857 - val_accuracy: 0.8079\n",
      "Epoch 79/100\n",
      "313/313 [==============================] - 48s 152ms/step - loss: 0.2447 - accuracy: 0.8982 - val_loss: 0.4985 - val_accuracy: 0.8017\n",
      "Epoch 80/100\n",
      "313/313 [==============================] - 48s 152ms/step - loss: 0.2436 - accuracy: 0.8996 - val_loss: 0.4740 - val_accuracy: 0.8008\n",
      "Epoch 81/100\n",
      "313/313 [==============================] - 47s 151ms/step - loss: 0.2332 - accuracy: 0.9047 - val_loss: 0.4887 - val_accuracy: 0.8079\n",
      "Epoch 82/100\n",
      "313/313 [==============================] - 47s 152ms/step - loss: 0.2348 - accuracy: 0.9030 - val_loss: 0.5010 - val_accuracy: 0.8054\n",
      "Epoch 83/100\n",
      "313/313 [==============================] - 47s 152ms/step - loss: 0.2339 - accuracy: 0.9036 - val_loss: 0.4983 - val_accuracy: 0.8030\n",
      "Epoch 84/100\n",
      "313/313 [==============================] - 47s 151ms/step - loss: 0.2263 - accuracy: 0.9081 - val_loss: 0.4886 - val_accuracy: 0.8065\n",
      "Epoch 85/100\n",
      "313/313 [==============================] - 47s 151ms/step - loss: 0.2298 - accuracy: 0.9060 - val_loss: 0.5152 - val_accuracy: 0.8008\n",
      "Epoch 86/100\n",
      "313/313 [==============================] - 47s 152ms/step - loss: 0.2287 - accuracy: 0.9064 - val_loss: 0.5082 - val_accuracy: 0.8017\n",
      "Epoch 87/100\n",
      "313/313 [==============================] - 48s 154ms/step - loss: 0.2211 - accuracy: 0.9096 - val_loss: 0.5487 - val_accuracy: 0.7917\n",
      "Epoch 88/100\n",
      "313/313 [==============================] - 48s 154ms/step - loss: 0.2195 - accuracy: 0.9109 - val_loss: 0.5618 - val_accuracy: 0.7862\n",
      "Epoch 89/100\n",
      "313/313 [==============================] - 48s 155ms/step - loss: 0.2145 - accuracy: 0.9140 - val_loss: 0.5357 - val_accuracy: 0.7946\n",
      "Epoch 90/100\n",
      "313/313 [==============================] - 48s 154ms/step - loss: 0.2192 - accuracy: 0.9106 - val_loss: 0.5181 - val_accuracy: 0.8022\n",
      "Epoch 91/100\n",
      "313/313 [==============================] - 48s 154ms/step - loss: 0.2084 - accuracy: 0.9165 - val_loss: 0.5168 - val_accuracy: 0.8009\n",
      "Epoch 92/100\n",
      "313/313 [==============================] - 49s 155ms/step - loss: 0.2053 - accuracy: 0.9164 - val_loss: 0.5269 - val_accuracy: 0.7990\n",
      "Epoch 93/100\n",
      "313/313 [==============================] - 49s 156ms/step - loss: 0.2024 - accuracy: 0.9183 - val_loss: 0.5191 - val_accuracy: 0.8004\n",
      "Epoch 94/100\n",
      "313/313 [==============================] - 48s 153ms/step - loss: 0.1989 - accuracy: 0.9200 - val_loss: 0.5870 - val_accuracy: 0.7814\n",
      "Epoch 95/100\n",
      "313/313 [==============================] - 48s 154ms/step - loss: 0.1930 - accuracy: 0.9233 - val_loss: 0.6035 - val_accuracy: 0.7822\n",
      "Epoch 96/100\n",
      "313/313 [==============================] - 48s 152ms/step - loss: 0.1881 - accuracy: 0.9264 - val_loss: 0.6757 - val_accuracy: 0.7673\n",
      "Epoch 97/100\n",
      "313/313 [==============================] - 48s 155ms/step - loss: 0.1979 - accuracy: 0.9192 - val_loss: 0.6068 - val_accuracy: 0.7821\n",
      "Epoch 98/100\n",
      "313/313 [==============================] - 48s 153ms/step - loss: 0.1803 - accuracy: 0.9295 - val_loss: 0.6068 - val_accuracy: 0.7932\n",
      "Epoch 99/100\n",
      "313/313 [==============================] - 48s 153ms/step - loss: 0.1809 - accuracy: 0.9289 - val_loss: 0.5821 - val_accuracy: 0.8003\n",
      "Epoch 100/100\n",
      "313/313 [==============================] - 48s 152ms/step - loss: 0.1840 - accuracy: 0.9269 - val_loss: 0.5389 - val_accuracy: 0.8001\n"
     ]
    }
   ],
   "source": [
    "model.compile(loss='binary_crossentropy', optimizer='adamax', metrics=['accuracy'])\n",
    "history = model.fit(x_train, y_train, validation_data=(x_test, y_test),epochs=100, batch_size=128)"
   ]
  },
  {
   "cell_type": "code",
   "execution_count": 22,
   "metadata": {
    "colab": {
     "base_uri": "https://localhost:8080/",
     "height": 295
    },
    "id": "qOSZw60Zn2x9",
    "outputId": "9404965a-bca6-465c-c267-a1209d7bb32f"
   },
   "outputs": [
    {
     "data": {
      "image/png": "[encoded data removed]",
      "text/plain": [
       "<Figure size 432x288 with 1 Axes>"
      ]
     },
     "metadata": {
      "needs_background": "light"
     },
     "output_type": "display_data"
    }
   ],
   "source": [
    "plt.plot(history.history['accuracy'])\n",
    "plt.plot(history.history['val_accuracy'])\n",
    "plt.title('Model accuracy')\n",
    "plt.ylabel('Accuracy')\n",
    "plt.xlabel('Epoch')\n",
    "plt.legend(['Train', 'Test'], loc='upper left')\n",
    "plt.show()"
   ]
  },
  {
   "cell_type": "code",
   "execution_count": 23,
   "metadata": {
    "colab": {
     "base_uri": "https://localhost:8080/"
    },
    "id": "jK119t3CtQZB",
    "outputId": "e299de45-bf09-488f-a6b1-462457c47923"
   },
   "outputs": [
    {
     "name": "stdout",
     "output_type": "stream",
     "text": [
      "INFO:tensorflow:Assets written to: model\\assets\n",
      "Model: \"sequential\"\n",
      "_________________________________________________________________\n",
      "Layer (type)                 Output Shape              Param #   \n",
      "=================================================================\n",
      "embedding (Embedding)        (None, 798, 150)          5962800   \n",
      "_________________________________________________________________\n",
      "conv1d (Conv1D)              (None, 798, 32)           14432     \n",
      "_________________________________________________________________\n",
      "max_pooling1d (MaxPooling1D) (None, 399, 32)           0         \n",
      "_________________________________________________________________\n",
      "conv1d_1 (Conv1D)            (None, 399, 64)           6208      \n",
      "_________________________________________________________________\n",
      "max_pooling1d_1 (MaxPooling1 (None, 199, 64)           0         \n",
      "_________________________________________________________________\n",
      "conv1d_2 (Conv1D)            (None, 199, 64)           12352     \n",
      "_________________________________________________________________\n",
      "max_pooling1d_2 (MaxPooling1 (None, 99, 64)            0         \n",
      "_________________________________________________________________\n",
      "conv1d_3 (Conv1D)            (None, 99, 64)            12352     \n",
      "_________________________________________________________________\n",
      "max_pooling1d_3 (MaxPooling1 (None, 49, 64)            0         \n",
      "_________________________________________________________________\n",
      "flatten (Flatten)            (None, 3136)              0         \n",
      "_________________________________________________________________\n",
      "dense (Dense)                (None, 2)                 6274      \n",
      "=================================================================\n",
      "Total params: 6,014,418\n",
      "Trainable params: 6,014,418\n",
      "Non-trainable params: 0\n",
      "_________________________________________________________________\n"
     ]
    }
   ],
   "source": [
    "model.save('model')\n",
    "CNN_model = load_model('model')\n",
    "CNN_model.summary()"
   ]
  },
  {
   "cell_type": "markdown",
   "metadata": {
    "id": "i73bNH6kcnud"
   },
   "source": [
    "LSTM model"
   ]
  },
  {
   "cell_type": "code",
   "execution_count": 24,
   "metadata": {
    "colab": {
     "base_uri": "https://localhost:8080/"
    },
    "id": "zchJjVYqcnLu",
    "outputId": "fb90585a-054e-4191-ca88-09f8a2932a80"
   },
   "outputs": [
    {
     "name": "stdout",
     "output_type": "stream",
     "text": [
      "Model: \"sequential_1\"\n",
      "_________________________________________________________________\n",
      "Layer (type)                 Output Shape              Param #   \n",
      "=================================================================\n",
      "embedding_1 (Embedding)      (None, None, 100)         79800     \n",
      "_________________________________________________________________\n",
      "lstm (LSTM)                  (None, None, 64)          42240     \n",
      "_________________________________________________________________\n",
      "lstm_1 (LSTM)                (None, 32)                12416     \n",
      "_________________________________________________________________\n",
      "dense_1 (Dense)              (None, 2)                 66        \n",
      "=================================================================\n",
      "Total params: 134,522\n",
      "Trainable params: 134,522\n",
      "Non-trainable params: 0\n",
      "_________________________________________________________________\n"
     ]
    }
   ],
   "source": [
    "model1=Sequential()\n",
    "model1.add(Embedding(max_length,100,mask_zero=True))\n",
    "model1.add(LSTM(64,dropout=0.4, recurrent_dropout=0.4,return_sequences=True))\n",
    "model1.add(LSTM(32,dropout=0.5, recurrent_dropout=0.5,return_sequences=False))\n",
    "model1.add(Dense(2,activation='softmax'))\n",
    "model1.compile(loss='categorical_crossentropy',optimizer='adamax',metrics=['accuracy'])\n",
    "model1.summary()"
   ]
  },
  {
   "cell_type": "code",
   "execution_count": 25,
   "metadata": {
    "colab": {
     "base_uri": "https://localhost:8080/"
    },
    "id": "pG18NCdNc8IG",
    "outputId": "0f2d277a-fca0-4ac1-c509-49165ce579ac"
   },
   "outputs": [
    {
     "name": "stdout",
     "output_type": "stream",
     "text": [
      "Epoch 1/20\n",
      "313/313 [==============================] - 987s 3s/step - loss: 0.6903 - accuracy: 0.7287 - val_loss: 0.6840 - val_accuracy: 0.7534\n",
      "Epoch 2/20\n",
      "313/313 [==============================] - 934s 3s/step - loss: 0.6870 - accuracy: 0.7424 - val_loss: 0.6925 - val_accuracy: 0.7111\n",
      "Epoch 3/20\n",
      "313/313 [==============================] - 920s 3s/step - loss: 0.6917 - accuracy: 0.7221 - val_loss: 0.6806 - val_accuracy: 0.7796\n",
      "Epoch 4/20\n",
      "313/313 [==============================] - 946s 3s/step - loss: 0.6760 - accuracy: 0.7821 - val_loss: 0.6691 - val_accuracy: 0.7939\n",
      "Epoch 5/20\n",
      "313/313 [==============================] - 930s 3s/step - loss: 0.6834 - accuracy: 0.7599 - val_loss: 0.6770 - val_accuracy: 0.7753\n",
      "Epoch 6/20\n",
      "313/313 [==============================] - 934s 3s/step - loss: 0.6753 - accuracy: 0.8853 - val_loss: 0.6736 - val_accuracy: 0.7916\n",
      "Epoch 7/20\n",
      "313/313 [==============================] - 927s 3s/step - loss: 0.6730 - accuracy: 0.8902 - val_loss: 0.6686 - val_accuracy: 0.7972\n",
      "Epoch 8/20\n",
      "313/313 [==============================] - 926s 3s/step - loss: 0.6706 - accuracy: 0.8925 - val_loss: 0.6692 - val_accuracy: 0.7944\n",
      "Epoch 9/20\n",
      "313/313 [==============================] - 938s 3s/step - loss: 0.6713 - accuracy: 0.8916 - val_loss: 0.6674 - val_accuracy: 0.7015\n",
      "Epoch 10/20\n",
      "313/313 [==============================] - 926s 3s/step - loss: 0.6709 - accuracy: 0.8900 - val_loss: 0.6683 - val_accuracy: 0.7985\n",
      "Epoch 11/20\n",
      "313/313 [==============================] - 951s 3s/step - loss: 0.6765 - accuracy: 0.8814 - val_loss: 0.6841 - val_accuracy: 0.7532\n",
      "Epoch 12/20\n",
      "313/313 [==============================] - 941s 3s/step - loss: 0.6710 - accuracy: 0.8886 - val_loss: 0.6622 - val_accuracy: 0.8041\n",
      "Epoch 13/20\n",
      "313/313 [==============================] - 930s 3s/step - loss: 0.6707 - accuracy: 0.8933 - val_loss: 0.6666 - val_accuracy: 0.8031\n",
      "Epoch 14/20\n",
      "313/313 [==============================] - 934s 3s/step - loss: 0.6680 - accuracy: 0.8973 - val_loss: 0.6651 - val_accuracy: 0.7973\n",
      "Epoch 15/20\n",
      "313/313 [==============================] - 934s 3s/step - loss: 0.6722 - accuracy: 0.8896 - val_loss: 0.6615 - val_accuracy: 0.8045\n",
      "Epoch 16/20\n",
      "313/313 [==============================] - 934s 3s/step - loss: 0.6688 - accuracy: 0.8954 - val_loss: 0.6617 - val_accuracy: 0.8064\n",
      "Epoch 17/20\n",
      "313/313 [==============================] - 919s 3s/step - loss: 0.6776 - accuracy: 0.8752 - val_loss: 0.6827 - val_accuracy: 0.7710\n",
      "Epoch 18/20\n",
      "313/313 [==============================] - 913s 3s/step - loss: 0.6814 - accuracy: 0.8664 - val_loss: 0.6741 - val_accuracy: 0.7778\n",
      "Epoch 19/20\n",
      "313/313 [==============================] - 931s 3s/step - loss: 0.6720 - accuracy: 0.8838 - val_loss: 0.6894 - val_accuracy: 0.7275\n",
      "Epoch 20/20\n",
      "313/313 [==============================] - 923s 3s/step - loss: 0.6738 - accuracy: 0.8803 - val_loss: 0.6635 - val_accuracy: 0.8015\n"
     ]
    }
   ],
   "source": [
    "history = model1.fit(x_train, y_train, validation_data=(x_test, y_test),epochs=20, batch_size=128)"
   ]
  },
  {
   "cell_type": "code",
   "execution_count": 26,
   "metadata": {
    "id": "PnwF9f--pmji"
   },
   "outputs": [
    {
     "data": {
      "image/png": "[encoded data removed]",
      "text/plain": [
       "<Figure size 432x288 with 1 Axes>"
      ]
     },
     "metadata": {
      "needs_background": "light"
     },
     "output_type": "display_data"
    }
   ],
   "source": [
    "plt.plot(history.history['accuracy'])\n",
    "plt.plot(history.history['val_accuracy'])\n",
    "plt.title('Model accuracy')\n",
    "plt.ylabel('Accuracy')\n",
    "plt.xlabel('Epoch')\n",
    "plt.legend(['Train', 'Test'], loc='upper left')\n",
    "plt.show()"
   ]
  },
  {
   "cell_type": "code",
   "execution_count": 27,
   "metadata": {
    "id": "lyC-lc-lCTTu"
   },
   "outputs": [
    {
     "name": "stdout",
     "output_type": "stream",
     "text": [
      "INFO:tensorflow:Assets written to: model1\\assets\n",
      "Model: \"sequential_1\"\n",
      "_________________________________________________________________\n",
      "Layer (type)                 Output Shape              Param #   \n",
      "=================================================================\n",
      "embedding_1 (Embedding)      (None, None, 100)         79800     \n",
      "_________________________________________________________________\n",
      "lstm (LSTM)                  (None, None, 64)          42240     \n",
      "_________________________________________________________________\n",
      "lstm_1 (LSTM)                (None, 32)                12416     \n",
      "_________________________________________________________________\n",
      "dense_1 (Dense)              (None, 2)                 66        \n",
      "=================================================================\n",
      "Total params: 134,522\n",
      "Trainable params: 134,522\n",
      "Non-trainable params: 0\n",
      "_________________________________________________________________\n"
     ]
    }
   ],
   "source": [
    "model1.save('model1')\n",
    "LSTM_model = load_model('model1')\n",
    "LSTM_model.summary()"
   ]
  },
  {
   "cell_type": "code",
   "execution_count": null,
   "metadata": {},
   "outputs": [],
   "source": []
  }
 ],
 "metadata": {
  "accelerator": "GPU",
  "colab": {
   "name": "NLP_Project_Final.ipynb",
   "provenance": []
  },
  "kernelspec": {
   "display_name": "Python 3",
   "language": "python",
   "name": "python3"
  },
  "language_info": {
   "codemirror_mode": {
    "name": "ipython",
    "version": 3
   },
   "file_extension": ".py",
   "mimetype": "text/x-python",
   "name": "python",
   "nbconvert_exporter": "python",
   "pygments_lexer": "ipython3",
   "version": "3.8.8"
  }
 },
 "nbformat": 4,
 "nbformat_minor": 1
}
